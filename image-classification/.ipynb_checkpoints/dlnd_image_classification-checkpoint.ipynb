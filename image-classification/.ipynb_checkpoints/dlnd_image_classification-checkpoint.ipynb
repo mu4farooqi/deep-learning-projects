{
 "cells": [
  {
   "cell_type": "markdown",
   "metadata": {
    "collapsed": true
   },
   "source": [
    "# Image Classification\n",
    "In this project, you'll classify images from the [CIFAR-10 dataset](https://www.cs.toronto.edu/~kriz/cifar.html).  The dataset consists of airplanes, dogs, cats, and other objects. You'll preprocess the images, then train a convolutional neural network on all the samples. The images need to be normalized and the labels need to be one-hot encoded.  You'll get to apply what you learned and build a convolutional, max pooling, dropout, and fully connected layers.  At the end, you'll get to see your neural network's predictions on the sample images.\n",
    "## Get the Data\n",
    "Run the following cell to download the [CIFAR-10 dataset for python](https://www.cs.toronto.edu/~kriz/cifar-10-python.tar.gz)."
   ]
  },
  {
   "cell_type": "code",
   "execution_count": 1,
   "metadata": {
    "collapsed": false
   },
   "outputs": [
    {
     "name": "stdout",
     "output_type": "stream",
     "text": [
      "All files found!\n"
     ]
    }
   ],
   "source": [
    "\"\"\"\n",
    "DON'T MODIFY ANYTHING IN THIS CELL THAT IS BELOW THIS LINE\n",
    "\"\"\"\n",
    "from urllib.request import urlretrieve\n",
    "from os.path import isfile, isdir\n",
    "from tqdm import tqdm\n",
    "import problem_unittests as tests\n",
    "import tarfile\n",
    "\n",
    "cifar10_dataset_folder_path = 'cifar-10-batches-py'\n",
    "tar_gz_path = 'cifar-10-python.tar.gz'\n",
    "\n",
    "class DLProgress(tqdm):\n",
    "    last_block = 0\n",
    "\n",
    "    def hook(self, block_num=1, block_size=1, total_size=None):\n",
    "        self.total = total_size\n",
    "        self.update((block_num - self.last_block) * block_size)\n",
    "        self.last_block = block_num\n",
    "\n",
    "if not isfile(tar_gz_path):\n",
    "    with DLProgress(unit='B', unit_scale=True, miniters=1, desc='CIFAR-10 Dataset') as pbar:\n",
    "        urlretrieve(\n",
    "            'https://www.cs.toronto.edu/~kriz/cifar-10-python.tar.gz',\n",
    "            tar_gz_path,\n",
    "            pbar.hook)\n",
    "\n",
    "if not isdir(cifar10_dataset_folder_path):\n",
    "    with tarfile.open(tar_gz_path) as tar:\n",
    "        tar.extractall()\n",
    "        tar.close()\n",
    "\n",
    "\n",
    "tests.test_folder_path(cifar10_dataset_folder_path)"
   ]
  },
  {
   "cell_type": "markdown",
   "metadata": {},
   "source": [
    "## Explore the Data\n",
    "The dataset is broken into batches to prevent your machine from running out of memory.  The CIFAR-10 dataset consists of 5 batches, named `data_batch_1`, `data_batch_2`, etc.. Each batch contains the labels and images that are one of the following:\n",
    "* airplane\n",
    "* automobile\n",
    "* bird\n",
    "* cat\n",
    "* deer\n",
    "* dog\n",
    "* frog\n",
    "* horse\n",
    "* ship\n",
    "* truck\n",
    "\n",
    "Understanding a dataset is part of making predictions on the data.  Play around with the code cell below by changing the `batch_id` and `sample_id`. The `batch_id` is the id for a batch (1-5). The `sample_id` is the id for a image and label pair in the batch.\n",
    "\n",
    "Ask yourself \"What are all possible labels?\", \"What is the range of values for the image data?\", \"Are the labels in order or random?\".  Answers to questions like these will help you preprocess the data and end up with better predictions."
   ]
  },
  {
   "cell_type": "code",
   "execution_count": 2,
   "metadata": {
    "collapsed": false
   },
   "outputs": [
    {
     "name": "stdout",
     "output_type": "stream",
     "text": [
      "\n",
      "Stats of batch 1:\n",
      "Samples: 10000\n",
      "Label Counts: {0: 1005, 1: 974, 2: 1032, 3: 1016, 4: 999, 5: 937, 6: 1030, 7: 1001, 8: 1025, 9: 981}\n",
      "First 20 Labels: [6, 9, 9, 4, 1, 1, 2, 7, 8, 3, 4, 7, 7, 2, 9, 9, 9, 3, 2, 6]\n",
      "\n",
      "Example of Image 5:\n",
      "Image - Min Value: 0 Max Value: 252\n",
      "Image - Shape: (32, 32, 3)\n",
      "Label - Label Id: 1 Name: automobile\n"
     ]
    },
    {
     "data": {
      "image/png": "[encoded data removed]",
      "text/plain": [
       "<matplotlib.figure.Figure at 0x7fd1b7e10c50>"
      ]
     },
     "metadata": {
      "image/png": {
       "height": 250,
       "width": 253
      }
     },
     "output_type": "display_data"
    }
   ],
   "source": [
    "%matplotlib inline\n",
    "%config InlineBackend.figure_format = 'retina'\n",
    "\n",
    "import helper\n",
    "import numpy as np\n",
    "\n",
    "# Explore the dataset\n",
    "batch_id = 1\n",
    "sample_id = 5\n",
    "helper.display_stats(cifar10_dataset_folder_path, batch_id, sample_id)"
   ]
  },
  {
   "cell_type": "markdown",
   "metadata": {},
   "source": [
    "## Implement Preprocess Functions\n",
    "### Normalize\n",
    "In the cell below, implement the `normalize` function to take in image data, `x`, and return it as a normalized Numpy array. The values should be in the range of 0 to 1, inclusive.  The return object should be the same shape as `x`."
   ]
  },
  {
   "cell_type": "code",
   "execution_count": 3,
   "metadata": {
    "collapsed": false
   },
   "outputs": [
    {
     "name": "stdout",
     "output_type": "stream",
     "text": [
      "Tests Passed\n"
     ]
    }
   ],
   "source": [
    "def normalize(x):\n",
    "    \"\"\"\n",
    "    Normalize a list of sample image data in the range of 0 to 1\n",
    "    : x: List of image data.  The image shape is (32, 32, 3)\n",
    "    : return: Numpy array of normalize data\n",
    "    \"\"\"\n",
    "    return (x - x.min())/(x.max() - x.min())\n",
    "\n",
    "tests.test_normalize(normalize)"
   ]
  },
  {
   "cell_type": "markdown",
   "metadata": {},
   "source": [
    "### One-hot encode\n",
    "Just like the previous code cell, you'll be implementing a function for preprocessing.  This time, you'll implement the `one_hot_encode` function. The input, `x`, are a list of labels.  Implement the function to return the list of labels as One-Hot encoded Numpy array.  The possible values for labels are 0 to 9. The one-hot encoding function should return the same encoding for each value between each call to `one_hot_encode`.  Make sure to save the map of encodings outside the function.\n",
    "\n",
    "Hint: Don't reinvent the wheel."
   ]
  },
  {
   "cell_type": "code",
   "execution_count": 4,
   "metadata": {
    "collapsed": false
   },
   "outputs": [
    {
     "name": "stdout",
     "output_type": "stream",
     "text": [
      "Tests Passed\n"
     ]
    }
   ],
   "source": [
    "import sklearn.preprocessing\n",
    "\n",
    "label_binarizer = sklearn.preprocessing.LabelBinarizer()\n",
    "label_binarizer.fit(range(10))\n",
    "\n",
    "def one_hot_encode(x):\n",
    "    \"\"\"\n",
    "    One hot encode a list of sample labels. Return a one-hot encoded vector for each label.\n",
    "    : x: List of sample Labels\n",
    "    : return: Numpy array of one-hot encoded labels\n",
    "    \"\"\"\n",
    "    return label_binarizer.transform(x)\n",
    "\n",
    "\n",
    "tests.test_one_hot_encode(one_hot_encode)"
   ]
  },
  {
   "cell_type": "markdown",
   "metadata": {},
   "source": [
    "### Randomize Data\n",
    "As you saw from exploring the data above, the order of the samples are randomized.  It doesn't hurt to randomize it again, but you don't need to for this dataset."
   ]
  },
  {
   "cell_type": "markdown",
   "metadata": {},
   "source": [
    "## Preprocess all the data and save it\n",
    "Running the code cell below will preprocess all the CIFAR-10 data and save it to file. The code below also uses 10% of the training data for validation."
   ]
  },
  {
   "cell_type": "code",
   "execution_count": 5,
   "metadata": {
    "collapsed": true
   },
   "outputs": [],
   "source": [
    "# Preprocess Training, Validation, and Testing Data\n",
    "helper.preprocess_and_save_data(cifar10_dataset_folder_path, normalize, one_hot_encode)"
   ]
  },
  {
   "cell_type": "markdown",
   "metadata": {},
   "source": [
    "# Check Point\n",
    "This is your first checkpoint.  If you ever decide to come back to this notebook or have to restart the notebook, you can start from here.  The preprocessed data has been saved to disk."
   ]
  },
  {
   "cell_type": "code",
   "execution_count": 6,
   "metadata": {
    "collapsed": true
   },
   "outputs": [],
   "source": [
    "import pickle\n",
    "import problem_unittests as tests\n",
    "import helper\n",
    "\n",
    "# Load the Preprocessed Validation data\n",
    "valid_features, valid_labels = pickle.load(open('preprocess_validation.p', mode='rb'))"
   ]
  },
  {
   "cell_type": "markdown",
   "metadata": {},
   "source": [
    "## Build the network\n",
    "For the neural network, you'll build each layer into a function.  Most of the code you've seen has been outside of functions. To test your code more thoroughly, we require that you put each layer in a function.  This allows us to give you better feedback and test for simple mistakes using our unittests before you submit your project.\n",
    "\n",
    ">**Note:** If you're finding it hard to dedicate enough time for this course each week, we've provided a small shortcut to this part of the project. In the next couple of problems, you'll have the option to use classes from the [TensorFlow Layers](https://www.tensorflow.org/api_docs/python/tf/layers) or [TensorFlow Layers (contrib)](https://www.tensorflow.org/api_guides/python/contrib.layers) packages to build each layer, except the layers you build in the \"Convolutional and Max Pooling Layer\" section.  TF Layers is similar to Keras's and TFLearn's abstraction to layers, so it's easy to pickup.\n",
    "\n",
    ">However, if you would like to get the most out of this course, try to solve all the problems _without_ using anything from the TF Layers packages. You **can** still use classes from other packages that happen to have the same name as ones you find in TF Layers! For example, instead of using the TF Layers version of the `conv2d` class, [tf.layers.conv2d](https://www.tensorflow.org/api_docs/python/tf/layers/conv2d), you would want to use the TF Neural Network version of `conv2d`, [tf.nn.conv2d](https://www.tensorflow.org/api_docs/python/tf/nn/conv2d). \n",
    "\n",
    "Let's begin!\n",
    "\n",
    "### Input\n",
    "The neural network needs to read the image data, one-hot encoded labels, and dropout keep probability. Implement the following functions\n",
    "* Implement `neural_net_image_input`\n",
    " * Return a [TF Placeholder](https://www.tensorflow.org/api_docs/python/tf/placeholder)\n",
    " * Set the shape using `image_shape` with batch size set to `None`.\n",
    " * Name the TensorFlow placeholder \"x\" using the TensorFlow `name` parameter in the [TF Placeholder](https://www.tensorflow.org/api_docs/python/tf/placeholder).\n",
    "* Implement `neural_net_label_input`\n",
    " * Return a [TF Placeholder](https://www.tensorflow.org/api_docs/python/tf/placeholder)\n",
    " * Set the shape using `n_classes` with batch size set to `None`.\n",
    " * Name the TensorFlow placeholder \"y\" using the TensorFlow `name` parameter in the [TF Placeholder](https://www.tensorflow.org/api_docs/python/tf/placeholder).\n",
    "* Implement `neural_net_keep_prob_input`\n",
    " * Return a [TF Placeholder](https://www.tensorflow.org/api_docs/python/tf/placeholder) for dropout keep probability.\n",
    " * Name the TensorFlow placeholder \"keep_prob\" using the TensorFlow `name` parameter in the [TF Placeholder](https://www.tensorflow.org/api_docs/python/tf/placeholder).\n",
    "\n",
    "These names will be used at the end of the project to load your saved model.\n",
    "\n",
    "Note: `None` for shapes in TensorFlow allow for a dynamic size."
   ]
  },
  {
   "cell_type": "code",
   "execution_count": 7,
   "metadata": {
    "collapsed": false
   },
   "outputs": [
    {
     "name": "stdout",
     "output_type": "stream",
     "text": [
      "Image Input Tests Passed.\n",
      "Label Input Tests Passed.\n",
      "Keep Prob Tests Passed.\n"
     ]
    }
   ],
   "source": [
    "import tensorflow as tf\n",
    "\n",
    "def neural_net_image_input(image_shape):\n",
    "    \"\"\"\n",
    "    Return a Tensor for a batch of image input\n",
    "    : image_shape: Shape of the images\n",
    "    : return: Tensor for image input.\n",
    "    \"\"\"\n",
    "    return tf.placeholder(tf.float32, [None, image_shape[0], image_shape[1], image_shape[2]], 'x')\n",
    "\n",
    "\n",
    "def neural_net_label_input(n_classes):\n",
    "    \"\"\"\n",
    "    Return a Tensor for a batch of label input\n",
    "    : n_classes: Number of classes\n",
    "    : return: Tensor for label input.\n",
    "    \"\"\"\n",
    "    return tf.placeholder(tf.float32, [None, n_classes], 'y')\n",
    "\n",
    "\n",
    "def neural_net_keep_prob_input():\n",
    "    \"\"\"\n",
    "    Return a Tensor for keep probability\n",
    "    : return: Tensor for keep probability.\n",
    "    \"\"\"\n",
    "    return tf.placeholder(tf.float32, name='keep_prob')\n",
    "\n",
    "\n",
    "tf.reset_default_graph()\n",
    "tests.test_nn_image_inputs(neural_net_image_input)\n",
    "tests.test_nn_label_inputs(neural_net_label_input)\n",
    "tests.test_nn_keep_prob_inputs(neural_net_keep_prob_input)"
   ]
  },
  {
   "cell_type": "markdown",
   "metadata": {},
   "source": [
    "### Convolution and Max Pooling Layer\n",
    "Convolution layers have a lot of success with images. For this code cell, you should implement the function `conv2d_maxpool` to apply convolution then max pooling:\n",
    "* Create the weight and bias using `conv_ksize`, `conv_num_outputs` and the shape of `x_tensor`.\n",
    "* Apply a convolution to `x_tensor` using weight and `conv_strides`.\n",
    " * We recommend you use same padding, but you're welcome to use any padding.\n",
    "* Add bias\n",
    "* Add a nonlinear activation to the convolution.\n",
    "* Apply Max Pooling using `pool_ksize` and `pool_strides`.\n",
    " * We recommend you use same padding, but you're welcome to use any padding.\n",
    "\n",
    "**Note:** You **can't** use [TensorFlow Layers](https://www.tensorflow.org/api_docs/python/tf/layers) or [TensorFlow Layers (contrib)](https://www.tensorflow.org/api_guides/python/contrib.layers) for **this** layer, but you can still use TensorFlow's [Neural Network](https://www.tensorflow.org/api_docs/python/tf/nn) package. You may still use the shortcut option for all the **other** layers."
   ]
  },
  {
   "cell_type": "code",
   "execution_count": 8,
   "metadata": {
    "collapsed": false
   },
   "outputs": [
    {
     "name": "stdout",
     "output_type": "stream",
     "text": [
      "Tests Passed\n"
     ]
    }
   ],
   "source": [
    "def conv2d_maxpool(x_tensor, conv_num_outputs, conv_ksize, conv_strides, pool_ksize, pool_strides, ):\n",
    "    \"\"\"\n",
    "    Apply convolution then max pooling to x_tensor\n",
    "    :param x_tensor: TensorFlow Tensor\n",
    "    :param conv_num_outputs: Number of outputs for the convolutional layer\n",
    "    :param conv_ksize: kernal size 2-D Tuple for the convolutional layer\n",
    "    :param conv_strides: Stride 2-D Tuple for convolution\n",
    "    :param pool_ksize: kernal size 2-D Tuple for pool\n",
    "    :param pool_strides: Stride 2-D Tuple for pool\n",
    "    : return: A tensor that represents convolution and max pooling of x_tensor\n",
    "    \"\"\"\n",
    "    weights = tf.Variable(tf.truncated_normal([conv_ksize[0], conv_ksize[1], x_tensor.get_shape().as_list()[-1], conv_num_outputs], stddev=0.1))\n",
    "    bias = tf.Variable(tf.zeros([conv_num_outputs]))\n",
    "    conv1 = tf.nn.relu(tf.nn.bias_add(tf.nn.conv2d(x_tensor, weights, [1, conv_strides[0], conv_strides[1], 1], 'SAME'), bias))\n",
    "    return tf.nn.max_pool(conv1, [1, pool_ksize[0], pool_ksize[1], 1], [1, pool_strides[0], pool_strides[1], 1], 'SAME')\n",
    "    \n",
    "\"\"\"\n",
    "DON'T MODIFY ANYTHING IN THIS CELL THAT IS BELOW THIS LINE\n",
    "\"\"\"\n",
    "tests.test_con_pool(conv2d_maxpool)"
   ]
  },
  {
   "cell_type": "markdown",
   "metadata": {},
   "source": [
    "### Flatten Layer\n",
    "Implement the `flatten` function to change the dimension of `x_tensor` from a 4-D tensor to a 2-D tensor.  The output should be the shape (*Batch Size*, *Flattened Image Size*). Shortcut option: you can use classes from the [TensorFlow Layers](https://www.tensorflow.org/api_docs/python/tf/layers) or [TensorFlow Layers (contrib)](https://www.tensorflow.org/api_guides/python/contrib.layers) packages for this layer. For more of a challenge, only use other TensorFlow packages."
   ]
  },
  {
   "cell_type": "code",
   "execution_count": 9,
   "metadata": {
    "collapsed": false
   },
   "outputs": [
    {
     "name": "stdout",
     "output_type": "stream",
     "text": [
      "Tests Passed\n"
     ]
    }
   ],
   "source": [
    "def flatten(x_tensor):\n",
    "    \"\"\"\n",
    "    Flatten x_tensor to (Batch Size, Flattened Image Size)\n",
    "    : x_tensor: A tensor of size (Batch Size, ...), where ... are the image dimensions.\n",
    "    : return: A tensor of size (Batch Size, Flattened Image Size).\n",
    "    \"\"\"\n",
    "    size = x_tensor.get_shape().as_list()\n",
    "    return tf.reshape(x_tensor, shape=[-1, size[1] * size[2] * size[3]])\n",
    "\n",
    "tests.test_flatten(flatten)"
   ]
  },
  {
   "cell_type": "markdown",
   "metadata": {},
   "source": [
    "### Fully-Connected Layer\n",
    "Implement the `fully_conn` function to apply a fully connected layer to `x_tensor` with the shape (*Batch Size*, *num_outputs*). Shortcut option: you can use classes from the [TensorFlow Layers](https://www.tensorflow.org/api_docs/python/tf/layers) or [TensorFlow Layers (contrib)](https://www.tensorflow.org/api_guides/python/contrib.layers) packages for this layer. For more of a challenge, only use other TensorFlow packages."
   ]
  },
  {
   "cell_type": "code",
   "execution_count": 10,
   "metadata": {
    "collapsed": false
   },
   "outputs": [
    {
     "name": "stdout",
     "output_type": "stream",
     "text": [
      "Tests Passed\n"
     ]
    }
   ],
   "source": [
    "def fully_conn(x_tensor, num_outputs):\n",
    "    \"\"\"\n",
    "    Apply a fully connected layer to x_tensor using weight and bias\n",
    "    : x_tensor: A 2-D tensor where the first dimension is batch size.\n",
    "    : num_outputs: The number of output that the new tensor should be.\n",
    "    : return: A 2-D tensor where the second dimension is num_outputs.\n",
    "    \"\"\"\n",
    "    weights = tf.Variable(tf.truncated_normal([x_tensor.get_shape().as_list()[1], num_outputs], stddev=0.1))\n",
    "    bias = tf.Variable(tf.zeros([num_outputs]))\n",
    "    \n",
    "    return tf.nn.relu(tf.nn.bias_add(tf.matmul(x_tensor, weights), bias))\n",
    "\n",
    "tests.test_fully_conn(fully_conn)"
   ]
  },
  {
   "cell_type": "markdown",
   "metadata": {},
   "source": [
    "### Output Layer\n",
    "Implement the `output` function to apply a fully connected layer to `x_tensor` with the shape (*Batch Size*, *num_outputs*). Shortcut option: you can use classes from the [TensorFlow Layers](https://www.tensorflow.org/api_docs/python/tf/layers) or [TensorFlow Layers (contrib)](https://www.tensorflow.org/api_guides/python/contrib.layers) packages for this layer. For more of a challenge, only use other TensorFlow packages.\n",
    "\n",
    "**Note:** Activation, softmax, or cross entropy should **not** be applied to this."
   ]
  },
  {
   "cell_type": "code",
   "execution_count": 11,
   "metadata": {
    "collapsed": false
   },
   "outputs": [
    {
     "name": "stdout",
     "output_type": "stream",
     "text": [
      "Tests Passed\n"
     ]
    }
   ],
   "source": [
    "def output(x_tensor, num_outputs):\n",
    "    \"\"\"\n",
    "    Apply a output layer to x_tensor using weight and bias\n",
    "    : x_tensor: A 2-D tensor where the first dimension is batch size.\n",
    "    : num_outputs: The number of output that the new tensor should be.\n",
    "    : return: A 2-D tensor where the second dimension is num_outputs.\n",
    "    \"\"\"\n",
    "    weights = tf.Variable(tf.truncated_normal([x_tensor.get_shape().as_list()[1], num_outputs], stddev=0.1))\n",
    "    bias = tf.Variable(tf.zeros([num_outputs]))\n",
    "    \n",
    "    return tf.nn.bias_add(tf.matmul(x_tensor, weights), bias)\n",
    "\n",
    "tests.test_output(output)"
   ]
  },
  {
   "cell_type": "code",
   "execution_count": 12,
   "metadata": {
    "collapsed": false
   },
   "outputs": [
    {
     "name": "stdout",
     "output_type": "stream",
     "text": [
      "Neural Network Built!\n"
     ]
    }
   ],
   "source": [
    "def conv_net(x, keep_prob):\n",
    "    \"\"\"\n",
    "    Create a convolutional neural network model\n",
    "    : x: Placeholder tensor that holds image data.\n",
    "    : keep_prob: Placeholder tensor that hold dropout keep probability.\n",
    "    : return: Tensor that represents logits\n",
    "    \"\"\"\n",
    "    \n",
    "    conv1 = conv2d_maxpool(x, 64, [2, 2], [1, 1], [2, 2], [2, 2])\n",
    "    conv1 = conv2d_maxpool(conv1, 128, [3, 3], [1, 1], [2, 2], [2, 2])\n",
    "    conv1 = conv2d_maxpool(conv1, 256, [3, 3], [1, 1], [2, 2], [2, 2])\n",
    "    \n",
    "    conv1 = flatten(conv1)\n",
    "    \n",
    "\n",
    "    conv1 = fully_conn(conv1, 2500)\n",
    "    conv1 = tf.nn.dropout(conv1, keep_prob)\n",
    "    \n",
    "    return output(conv1, 10)\n",
    "\n",
    "##############################\n",
    "## Build the Neural Network ##\n",
    "##############################\n",
    "\n",
    "# Remove previous weights, bias, inputs, etc..\n",
    "tf.reset_default_graph()\n",
    "\n",
    "# Inputs\n",
    "x = neural_net_image_input((32, 32, 3))\n",
    "y = neural_net_label_input(10)\n",
    "keep_prob = neural_net_keep_prob_input()\n",
    "\n",
    "# Model\n",
    "logits = conv_net(x, keep_prob)\n",
    "\n",
    "# Name logits Tensor, so that is can be loaded from disk after training\n",
    "logits = tf.identity(logits, name='logits')\n",
    "\n",
    "# Loss and Optimizer\n",
    "cost = tf.reduce_mean(tf.nn.softmax_cross_entropy_with_logits(logits=logits, labels=y))\n",
    "optimizer = tf.train.AdamOptimizer().minimize(cost)\n",
    "\n",
    "# Accuracy\n",
    "correct_pred = tf.equal(tf.argmax(logits, 1), tf.argmax(y, 1))\n",
    "accuracy = tf.reduce_mean(tf.cast(correct_pred, tf.float32), name='accuracy')\n",
    "\n",
    "tests.test_conv_net(conv_net)"
   ]
  },
  {
   "cell_type": "markdown",
   "metadata": {},
   "source": [
    "### Create Convolutional Model\n",
    "Implement the function `conv_net` to create a convolutional neural network model. The function takes in a batch of images, `x`, and outputs logits.  Use the layers you created above to create this model:\n",
    "\n",
    "* Apply 1, 2, or 3 Convolution and Max Pool layers\n",
    "* Apply a Flatten Layer\n",
    "* Apply 1, 2, or 3 Fully Connected Layers\n",
    "* Apply an Output Layer\n",
    "* Return the output\n",
    "* Apply [TensorFlow's Dropout](https://www.tensorflow.org/api_docs/python/tf/nn/dropout) to one or more layers in the model using `keep_prob`. "
   ]
  },
  {
   "cell_type": "markdown",
   "metadata": {},
   "source": [
    "## Train the Neural Network\n",
    "### Single Optimization\n",
    "Implement the function `train_neural_network` to do a single optimization.  The optimization should use `optimizer` to optimize in `session` with a `feed_dict` of the following:\n",
    "* `x` for image input\n",
    "* `y` for labels\n",
    "* `keep_prob` for keep probability for dropout\n",
    "\n",
    "This function will be called for each batch, so `tf.global_variables_initializer()` has already been called.\n",
    "\n",
    "Note: Nothing needs to be returned. This function is only optimizing the neural network."
   ]
  },
  {
   "cell_type": "code",
   "execution_count": 13,
   "metadata": {
    "collapsed": false
   },
   "outputs": [
    {
     "name": "stdout",
     "output_type": "stream",
     "text": [
      "Tests Passed\n"
     ]
    }
   ],
   "source": [
    "def train_neural_network(session, optimizer, keep_probability, feature_batch, label_batch):\n",
    "    \"\"\"\n",
    "    Optimize the session on a batch of images and labels\n",
    "    : session: Current TensorFlow session\n",
    "    : optimizer: TensorFlow optimizer function\n",
    "    : keep_probability: keep probability\n",
    "    : feature_batch: Batch of Numpy image data\n",
    "    : label_batch: Batch of Numpy label data\n",
    "    \"\"\"\n",
    "    session.run(optimizer, feed_dict={x: feature_batch, y: label_batch , keep_prob: keep_probability})\n",
    "    \n",
    "tests.test_train_nn(train_neural_network)"
   ]
  },
  {
   "cell_type": "markdown",
   "metadata": {},
   "source": [
    "### Show Stats\n",
    "Implement the function `print_stats` to print loss and validation accuracy.  Use the global variables `valid_features` and `valid_labels` to calculate validation accuracy.  Use a keep probability of `1.0` to calculate the loss and validation accuracy."
   ]
  },
  {
   "cell_type": "code",
   "execution_count": 14,
   "metadata": {
    "collapsed": false
   },
   "outputs": [],
   "source": [
    "def print_stats(session, feature_batch, label_batch, cost, accuracy):\n",
    "    \"\"\"\n",
    "    Print information about loss and validation accuracy\n",
    "    : session: Current TensorFlow session\n",
    "    : feature_batch: Batch of Numpy image data\n",
    "    : label_batch: Batch of Numpy label data\n",
    "    : cost: TensorFlow cost function\n",
    "    : accuracy: TensorFlow accuracy function\n",
    "    \"\"\"\n",
    "    cost_val = session.run(cost, feed_dict={x: feature_batch, y: label_batch , keep_prob: 1})\n",
    "    accuracy_val = session.run(accuracy, feed_dict={x: valid_features, y: valid_labels , keep_prob: 1})\n",
    "    print(\"Cost: {}   Accuracy: {}\".format(cost_val, accuracy_val))"
   ]
  },
  {
   "cell_type": "markdown",
   "metadata": {},
   "source": [
    "### Hyperparameters\n",
    "Tune the following parameters:\n",
    "* Set `epochs` to the number of iterations until the network stops learning or start overfitting\n",
    "* Set `batch_size` to the highest number that your machine has memory for.  Most people set them to common sizes of memory:\n",
    " * 64\n",
    " * 128\n",
    " * 256\n",
    " * ...\n",
    "* Set `keep_probability` to the probability of keeping a node using dropout"
   ]
  },
  {
   "cell_type": "code",
   "execution_count": 15,
   "metadata": {
    "collapsed": true
   },
   "outputs": [],
   "source": [
    "# TODO: Tune Parameters\n",
    "epochs = 50\n",
    "batch_size = 256\n",
    "keep_probability = 0.75"
   ]
  },
  {
   "cell_type": "markdown",
   "metadata": {},
   "source": [
    "### Train on a Single CIFAR-10 Batch\n",
    "Instead of training the neural network on all the CIFAR-10 batches of data, let's use a single batch. This should save time while you iterate on the model to get a better accuracy.  Once the final validation accuracy is 50% or greater, run the model on all the data in the next section."
   ]
  },
  {
   "cell_type": "code",
   "execution_count": 16,
   "metadata": {
    "collapsed": false
   },
   "outputs": [
    {
     "name": "stdout",
     "output_type": "stream",
     "text": [
      "Checking the Training on a Single Batch...\n",
      "Epoch  1, CIFAR-10 Batch 1:  Cost: 1.887009859085083   Accuracy: 0.3611999750137329\n",
      "Epoch  2, CIFAR-10 Batch 1:  Cost: 1.4334485530853271   Accuracy: 0.45079997181892395\n",
      "Epoch  3, CIFAR-10 Batch 1:  Cost: 1.0266963243484497   Accuracy: 0.5039999485015869\n",
      "Epoch  4, CIFAR-10 Batch 1:  Cost: 0.6985819339752197   Accuracy: 0.5309999585151672\n",
      "Epoch  5, CIFAR-10 Batch 1:  Cost: 0.4291169047355652   Accuracy: 0.555199921131134\n",
      "Epoch  6, CIFAR-10 Batch 1:  Cost: 0.24873483180999756   Accuracy: 0.5595999360084534\n",
      "Epoch  7, CIFAR-10 Batch 1:  Cost: 0.2093193084001541   Accuracy: 0.5471999049186707\n",
      "Epoch  8, CIFAR-10 Batch 1:  Cost: 0.14108389616012573   Accuracy: 0.5425999760627747\n",
      "Epoch  9, CIFAR-10 Batch 1:  Cost: 0.14993621408939362   Accuracy: 0.5643999576568604\n",
      "Epoch 10, CIFAR-10 Batch 1:  Cost: 0.09867171943187714   Accuracy: 0.5707999467849731\n",
      "Epoch 11, CIFAR-10 Batch 1:  Cost: 0.04203975200653076   Accuracy: 0.5677999258041382\n",
      "Epoch 12, CIFAR-10 Batch 1:  Cost: 0.04274659976363182   Accuracy: 0.5833999514579773\n",
      "Epoch 13, CIFAR-10 Batch 1:  Cost: 0.046980131417512894   Accuracy: 0.5771999359130859\n",
      "Epoch 14, CIFAR-10 Batch 1:  Cost: 0.04257863014936447   Accuracy: 0.5753998756408691\n",
      "Epoch 15, CIFAR-10 Batch 1:  Cost: 0.05865419656038284   Accuracy: 0.5511999130249023\n",
      "Epoch 16, CIFAR-10 Batch 1:  Cost: 0.013393803499639034   Accuracy: 0.5903999209403992\n",
      "Epoch 17, CIFAR-10 Batch 1:  Cost: 0.009556892327964306   Accuracy: 0.5875998735427856\n",
      "Epoch 18, CIFAR-10 Batch 1:  Cost: 0.005305830389261246   Accuracy: 0.6047998666763306\n",
      "Epoch 19, CIFAR-10 Batch 1:  Cost: 0.011763518676161766   Accuracy: 0.6143998503684998\n",
      "Epoch 20, CIFAR-10 Batch 1:  Cost: 0.007760278414934874   Accuracy: 0.6131999492645264\n",
      "Epoch 21, CIFAR-10 Batch 1:  Cost: 0.00796337891370058   Accuracy: 0.5873998999595642\n",
      "Epoch 22, CIFAR-10 Batch 1:  Cost: 0.014080350287258625   Accuracy: 0.5899999141693115\n",
      "Epoch 23, CIFAR-10 Batch 1:  Cost: 0.007889573462307453   Accuracy: 0.5971999168395996\n",
      "Epoch 24, CIFAR-10 Batch 1:  Cost: 0.0020998730324208736   Accuracy: 0.6041999459266663\n",
      "Epoch 25, CIFAR-10 Batch 1:  Cost: 0.0017503530252724886   Accuracy: 0.6177999377250671\n",
      "Epoch 26, CIFAR-10 Batch 1:  Cost: 0.0008307487005367875   Accuracy: 0.6209998726844788\n",
      "Epoch 27, CIFAR-10 Batch 1:  Cost: 0.0010336379054933786   Accuracy: 0.6109999418258667\n",
      "Epoch 28, CIFAR-10 Batch 1:  Cost: 0.0006530483369715512   Accuracy: 0.5925998687744141\n",
      "Epoch 29, CIFAR-10 Batch 1:  Cost: 0.0009792158380150795   Accuracy: 0.6115999221801758\n",
      "Epoch 30, CIFAR-10 Batch 1:  Cost: 0.00039859602111391723   Accuracy: 0.6209999322891235\n",
      "Epoch 31, CIFAR-10 Batch 1:  Cost: 0.0012229385320097208   Accuracy: 0.6129999160766602\n",
      "Epoch 32, CIFAR-10 Batch 1:  Cost: 0.0004318866122048348   Accuracy: 0.6185998916625977\n",
      "Epoch 33, CIFAR-10 Batch 1:  Cost: 0.0016636636573821306   Accuracy: 0.6041998267173767\n",
      "Epoch 34, CIFAR-10 Batch 1:  Cost: 0.00025213591288775206   Accuracy: 0.6167998909950256\n",
      "Epoch 35, CIFAR-10 Batch 1:  Cost: 0.00020405353279784322   Accuracy: 0.6299998760223389\n",
      "Epoch 36, CIFAR-10 Batch 1:  Cost: 0.00018454465316608548   Accuracy: 0.637799859046936\n",
      "Epoch 37, CIFAR-10 Batch 1:  Cost: 0.00012962894106749445   Accuracy: 0.6385999321937561\n",
      "Epoch 38, CIFAR-10 Batch 1:  Cost: 7.09211963112466e-05   Accuracy: 0.640799880027771\n",
      "Epoch 39, CIFAR-10 Batch 1:  Cost: 6.65130719426088e-05   Accuracy: 0.6411998867988586\n",
      "Epoch 40, CIFAR-10 Batch 1:  Cost: 5.4321477364283055e-05   Accuracy: 0.6377999186515808\n",
      "Epoch 41, CIFAR-10 Batch 1:  Cost: 5.420625166152604e-05   Accuracy: 0.6401998996734619\n",
      "Epoch 42, CIFAR-10 Batch 1:  Cost: 5.400896770879626e-05   Accuracy: 0.6423999071121216\n",
      "Epoch 43, CIFAR-10 Batch 1:  Cost: 3.5410907003097236e-05   Accuracy: 0.642599880695343\n",
      "Epoch 44, CIFAR-10 Batch 1:  Cost: 3.166038732160814e-05   Accuracy: 0.6429998278617859\n",
      "Epoch 45, CIFAR-10 Batch 1:  Cost: 3.0265913665061817e-05   Accuracy: 0.6439999341964722\n",
      "Epoch 46, CIFAR-10 Batch 1:  Cost: 2.4676588509464636e-05   Accuracy: 0.6417998671531677\n",
      "Epoch 47, CIFAR-10 Batch 1:  Cost: 2.583215245977044e-05   Accuracy: 0.642599880695343\n",
      "Epoch 48, CIFAR-10 Batch 1:  Cost: 2.4882143407012336e-05   Accuracy: 0.6435998678207397\n",
      "Epoch 49, CIFAR-10 Batch 1:  Cost: 2.3689979570917785e-05   Accuracy: 0.6449998617172241\n",
      "Epoch 50, CIFAR-10 Batch 1:  Cost: 2.314176526851952e-05   Accuracy: 0.6401998996734619\n"
     ]
    }
   ],
   "source": [
    "print('Checking the Training on a Single Batch...')\n",
    "\n",
    "\n",
    "with tf.Session() as sess:\n",
    "    # Initializing the variables\n",
    "    sess.run(tf.global_variables_initializer())\n",
    "    \n",
    "    # Training cycle\n",
    "    for epoch in range(epochs):\n",
    "        batch_i = 1\n",
    "        for batch_features, batch_labels in helper.load_preprocess_training_batch(batch_i, batch_size):\n",
    "            train_neural_network(sess, optimizer, keep_probability, batch_features, batch_labels)\n",
    "        print('Epoch {:>2}, CIFAR-10 Batch {}:  '.format(epoch + 1, batch_i), end='')\n",
    "        print_stats(sess, batch_features, batch_labels, cost, accuracy)"
   ]
  },
  {
   "cell_type": "markdown",
   "metadata": {},
   "source": [
    "### Fully Train the Model\n",
    "Now that you got a good accuracy with a single CIFAR-10 batch, try it with all five batches."
   ]
  },
  {
   "cell_type": "code",
   "execution_count": 17,
   "metadata": {
    "collapsed": false
   },
   "outputs": [
    {
     "name": "stdout",
     "output_type": "stream",
     "text": [
      "Training...\n",
      "Epoch  1, CIFAR-10 Batch 1:  Cost: 2.051206588745117   Accuracy: 0.36619997024536133\n",
      "Epoch  1, CIFAR-10 Batch 2:  Cost: 1.3945238590240479   Accuracy: 0.4113999307155609\n",
      "Epoch  1, CIFAR-10 Batch 3:  Cost: 1.121010661125183   Accuracy: 0.4971999526023865\n",
      "Epoch  1, CIFAR-10 Batch 4:  Cost: 1.1563559770584106   Accuracy: 0.5275999307632446\n",
      "Epoch  1, CIFAR-10 Batch 5:  Cost: 1.1237553358078003   Accuracy: 0.5633999109268188\n",
      "Epoch  2, CIFAR-10 Batch 1:  Cost: 1.2723689079284668   Accuracy: 0.562999963760376\n",
      "Epoch  2, CIFAR-10 Batch 2:  Cost: 0.8095828890800476   Accuracy: 0.5591999292373657\n",
      "Epoch  2, CIFAR-10 Batch 3:  Cost: 0.6158396601676941   Accuracy: 0.5965999364852905\n",
      "Epoch  2, CIFAR-10 Batch 4:  Cost: 0.7055609822273254   Accuracy: 0.6061998605728149\n",
      "Epoch  2, CIFAR-10 Batch 5:  Cost: 0.7424969673156738   Accuracy: 0.6209998726844788\n",
      "Epoch  3, CIFAR-10 Batch 1:  Cost: 0.7953800559043884   Accuracy: 0.612799882888794\n",
      "Epoch  3, CIFAR-10 Batch 2:  Cost: 0.4339156150817871   Accuracy: 0.6167999505996704\n",
      "Epoch  3, CIFAR-10 Batch 3:  Cost: 0.38278084993362427   Accuracy: 0.6085999608039856\n",
      "Epoch  3, CIFAR-10 Batch 4:  Cost: 0.4094259440898895   Accuracy: 0.6529998779296875\n",
      "Epoch  3, CIFAR-10 Batch 5:  Cost: 0.41879940032958984   Accuracy: 0.635999858379364\n",
      "Epoch  4, CIFAR-10 Batch 1:  Cost: 0.46887409687042236   Accuracy: 0.6337999105453491\n",
      "Epoch  4, CIFAR-10 Batch 2:  Cost: 0.295160174369812   Accuracy: 0.6237999200820923\n",
      "Epoch  4, CIFAR-10 Batch 3:  Cost: 0.20225845277309418   Accuracy: 0.6551998853683472\n",
      "Epoch  4, CIFAR-10 Batch 4:  Cost: 0.23723608255386353   Accuracy: 0.6563998460769653\n",
      "Epoch  4, CIFAR-10 Batch 5:  Cost: 0.18780279159545898   Accuracy: 0.6523998975753784\n",
      "Epoch  5, CIFAR-10 Batch 1:  Cost: 0.22407442331314087   Accuracy: 0.6529998779296875\n",
      "Epoch  5, CIFAR-10 Batch 2:  Cost: 0.14642466604709625   Accuracy: 0.6291999220848083\n",
      "Epoch  5, CIFAR-10 Batch 3:  Cost: 0.0843813493847847   Accuracy: 0.6779999136924744\n",
      "Epoch  5, CIFAR-10 Batch 4:  Cost: 0.11578039824962616   Accuracy: 0.6709998250007629\n",
      "Epoch  5, CIFAR-10 Batch 5:  Cost: 0.12998291850090027   Accuracy: 0.6529998779296875\n",
      "Epoch  6, CIFAR-10 Batch 1:  Cost: 0.1498447209596634   Accuracy: 0.6769998073577881\n",
      "Epoch  6, CIFAR-10 Batch 2:  Cost: 0.10535668581724167   Accuracy: 0.665199875831604\n",
      "Epoch  6, CIFAR-10 Batch 3:  Cost: 0.05856894329190254   Accuracy: 0.6665998697280884\n",
      "Epoch  6, CIFAR-10 Batch 4:  Cost: 0.15205997228622437   Accuracy: 0.6617999076843262\n",
      "Epoch  6, CIFAR-10 Batch 5:  Cost: 0.07634035497903824   Accuracy: 0.6735998392105103\n",
      "Epoch  7, CIFAR-10 Batch 1:  Cost: 0.07296856492757797   Accuracy: 0.6805998086929321\n",
      "Epoch  7, CIFAR-10 Batch 2:  Cost: 0.049596481025218964   Accuracy: 0.6789999604225159\n",
      "Epoch  7, CIFAR-10 Batch 3:  Cost: 0.06000201404094696   Accuracy: 0.6641998887062073\n",
      "Epoch  7, CIFAR-10 Batch 4:  Cost: 0.08325932919979095   Accuracy: 0.665199875831604\n",
      "Epoch  7, CIFAR-10 Batch 5:  Cost: 0.04092002287507057   Accuracy: 0.6871998310089111\n",
      "Epoch  8, CIFAR-10 Batch 1:  Cost: 0.05145661160349846   Accuracy: 0.6907998919487\n",
      "Epoch  8, CIFAR-10 Batch 2:  Cost: 0.04204476624727249   Accuracy: 0.6839998364448547\n",
      "Epoch  8, CIFAR-10 Batch 3:  Cost: 0.033404357731342316   Accuracy: 0.6731998920440674\n",
      "Epoch  8, CIFAR-10 Batch 4:  Cost: 0.03692835941910744   Accuracy: 0.7013998031616211\n",
      "Epoch  8, CIFAR-10 Batch 5:  Cost: 0.027918484061956406   Accuracy: 0.6851999163627625\n",
      "Epoch  9, CIFAR-10 Batch 1:  Cost: 0.04414786398410797   Accuracy: 0.6567999124526978\n",
      "Epoch  9, CIFAR-10 Batch 2:  Cost: 0.01935962587594986   Accuracy: 0.6851998567581177\n",
      "Epoch  9, CIFAR-10 Batch 3:  Cost: 0.01569214090704918   Accuracy: 0.6995999217033386\n",
      "Epoch  9, CIFAR-10 Batch 4:  Cost: 0.032703667879104614   Accuracy: 0.6899998784065247\n",
      "Epoch  9, CIFAR-10 Batch 5:  Cost: 0.018042773008346558   Accuracy: 0.6757999062538147\n",
      "Epoch 10, CIFAR-10 Batch 1:  Cost: 0.028026634827256203   Accuracy: 0.6969998478889465\n",
      "Epoch 10, CIFAR-10 Batch 2:  Cost: 0.013833682984113693   Accuracy: 0.7029998898506165\n",
      "Epoch 10, CIFAR-10 Batch 3:  Cost: 0.012341273948550224   Accuracy: 0.6881998777389526\n",
      "Epoch 10, CIFAR-10 Batch 4:  Cost: 0.02658776193857193   Accuracy: 0.7005999088287354\n",
      "Epoch 10, CIFAR-10 Batch 5:  Cost: 0.020673207938671112   Accuracy: 0.6693998575210571\n",
      "Epoch 11, CIFAR-10 Batch 1:  Cost: 0.025415528565645218   Accuracy: 0.6969999074935913\n",
      "Epoch 11, CIFAR-10 Batch 2:  Cost: 0.008435646072030067   Accuracy: 0.6825999021530151\n",
      "Epoch 11, CIFAR-10 Batch 3:  Cost: 0.009919674135744572   Accuracy: 0.7001999020576477\n",
      "Epoch 11, CIFAR-10 Batch 4:  Cost: 0.010493794456124306   Accuracy: 0.707399845123291\n",
      "Epoch 11, CIFAR-10 Batch 5:  Cost: 0.012937726452946663   Accuracy: 0.7061998844146729\n",
      "Epoch 12, CIFAR-10 Batch 1:  Cost: 0.013851823285222054   Accuracy: 0.7083998918533325\n",
      "Epoch 12, CIFAR-10 Batch 2:  Cost: 0.005867733154445887   Accuracy: 0.7115998268127441\n",
      "Epoch 12, CIFAR-10 Batch 3:  Cost: 0.0071684736758470535   Accuracy: 0.6947999000549316\n",
      "Epoch 12, CIFAR-10 Batch 4:  Cost: 0.011029912158846855   Accuracy: 0.7081998586654663\n",
      "Epoch 12, CIFAR-10 Batch 5:  Cost: 0.00740025145933032   Accuracy: 0.7049999237060547\n",
      "Epoch 13, CIFAR-10 Batch 1:  Cost: 0.009755331091582775   Accuracy: 0.7063998579978943\n",
      "Epoch 13, CIFAR-10 Batch 2:  Cost: 0.01016267016530037   Accuracy: 0.6971999406814575\n",
      "Epoch 13, CIFAR-10 Batch 3:  Cost: 0.005377671681344509   Accuracy: 0.7141998410224915\n",
      "Epoch 13, CIFAR-10 Batch 4:  Cost: 0.008022073656320572   Accuracy: 0.7065998911857605\n",
      "Epoch 13, CIFAR-10 Batch 5:  Cost: 0.005735047627240419   Accuracy: 0.6957998871803284\n",
      "Epoch 14, CIFAR-10 Batch 1:  Cost: 0.00695300055667758   Accuracy: 0.7069998383522034\n",
      "Epoch 14, CIFAR-10 Batch 2:  Cost: 0.0038138930685818195   Accuracy: 0.7131998538970947\n",
      "Epoch 14, CIFAR-10 Batch 3:  Cost: 0.005342175718396902   Accuracy: 0.7057998180389404\n",
      "Epoch 14, CIFAR-10 Batch 4:  Cost: 0.004782462026923895   Accuracy: 0.7029998898506165\n",
      "Epoch 14, CIFAR-10 Batch 5:  Cost: 0.0022766622714698315   Accuracy: 0.7067998647689819\n",
      "Epoch 15, CIFAR-10 Batch 1:  Cost: 0.010418922640383244   Accuracy: 0.6719999313354492\n",
      "Epoch 15, CIFAR-10 Batch 2:  Cost: 0.0035423135850578547   Accuracy: 0.6881998777389526\n",
      "Epoch 15, CIFAR-10 Batch 3:  Cost: 0.0015416932292282581   Accuracy: 0.7167998552322388\n",
      "Epoch 15, CIFAR-10 Batch 4:  Cost: 0.0030037127435207367   Accuracy: 0.7023999094963074\n",
      "Epoch 15, CIFAR-10 Batch 5:  Cost: 0.0038695388939231634   Accuracy: 0.6977999210357666\n",
      "Epoch 16, CIFAR-10 Batch 1:  Cost: 0.008022329770028591   Accuracy: 0.6793999075889587\n",
      "Epoch 16, CIFAR-10 Batch 2:  Cost: 0.0016986532136797905   Accuracy: 0.6903998851776123\n",
      "Epoch 16, CIFAR-10 Batch 3:  Cost: 0.0009035708499141037   Accuracy: 0.7217998504638672\n",
      "Epoch 16, CIFAR-10 Batch 4:  Cost: 0.0019445412326604128   Accuracy: 0.7221998572349548\n",
      "Epoch 16, CIFAR-10 Batch 5:  Cost: 0.001912199892103672   Accuracy: 0.7001998424530029\n",
      "Epoch 17, CIFAR-10 Batch 1:  Cost: 0.002987078158184886   Accuracy: 0.7071998119354248\n",
      "Epoch 17, CIFAR-10 Batch 2:  Cost: 0.004739837255328894   Accuracy: 0.6957998871803284\n",
      "Epoch 17, CIFAR-10 Batch 3:  Cost: 0.0006835437379777431   Accuracy: 0.710399866104126\n",
      "Epoch 17, CIFAR-10 Batch 4:  Cost: 0.0011631050147116184   Accuracy: 0.7113999128341675\n",
      "Epoch 17, CIFAR-10 Batch 5:  Cost: 0.0008106937748380005   Accuracy: 0.7101998329162598\n",
      "Epoch 18, CIFAR-10 Batch 1:  Cost: 0.0018740496598184109   Accuracy: 0.7055999040603638\n",
      "Epoch 18, CIFAR-10 Batch 2:  Cost: 0.0040328968316316605   Accuracy: 0.7159998416900635\n",
      "Epoch 18, CIFAR-10 Batch 3:  Cost: 0.000797393498942256   Accuracy: 0.7115998864173889\n",
      "Epoch 18, CIFAR-10 Batch 4:  Cost: 0.0020375563763082027   Accuracy: 0.7183998823165894\n",
      "Epoch 18, CIFAR-10 Batch 5:  Cost: 0.0014692950062453747   Accuracy: 0.7127999067306519\n",
      "Epoch 19, CIFAR-10 Batch 1:  Cost: 0.0035153268836438656   Accuracy: 0.7127997875213623\n",
      "Epoch 19, CIFAR-10 Batch 2:  Cost: 0.0024330117739737034   Accuracy: 0.7109998464584351\n",
      "Epoch 19, CIFAR-10 Batch 3:  Cost: 0.000666068575810641   Accuracy: 0.7107999324798584\n",
      "Epoch 19, CIFAR-10 Batch 4:  Cost: 0.00173766550142318   Accuracy: 0.7041998505592346\n",
      "Epoch 19, CIFAR-10 Batch 5:  Cost: 0.0043088290840387344   Accuracy: 0.7063998579978943\n",
      "Epoch 20, CIFAR-10 Batch 1:  Cost: 0.0010535386390984058   Accuracy: 0.7143998742103577\n",
      "Epoch 20, CIFAR-10 Batch 2:  Cost: 0.0017557875253260136   Accuracy: 0.7049999237060547\n",
      "Epoch 20, CIFAR-10 Batch 3:  Cost: 0.0011157671688124537   Accuracy: 0.7079998850822449\n",
      "Epoch 20, CIFAR-10 Batch 4:  Cost: 0.0024729736614972353   Accuracy: 0.707399845123291\n",
      "Epoch 20, CIFAR-10 Batch 5:  Cost: 0.0010006529046222568   Accuracy: 0.7117998600006104\n",
      "Epoch 21, CIFAR-10 Batch 1:  Cost: 0.0015173627762123942   Accuracy: 0.6839998960494995\n",
      "Epoch 21, CIFAR-10 Batch 2:  Cost: 0.0017094771610572934   Accuracy: 0.7079998254776001\n",
      "Epoch 21, CIFAR-10 Batch 3:  Cost: 0.0007108194986358285   Accuracy: 0.7077997922897339\n",
      "Epoch 21, CIFAR-10 Batch 4:  Cost: 0.000719103729352355   Accuracy: 0.7165998220443726\n",
      "Epoch 21, CIFAR-10 Batch 5:  Cost: 0.00024703177041374147   Accuracy: 0.7155998349189758\n",
      "Epoch 22, CIFAR-10 Batch 1:  Cost: 0.005151714198291302   Accuracy: 0.715199887752533\n",
      "Epoch 22, CIFAR-10 Batch 2:  Cost: 0.0004922379739582539   Accuracy: 0.7145997881889343\n",
      "Epoch 22, CIFAR-10 Batch 3:  Cost: 0.0014029883313924074   Accuracy: 0.7077998518943787\n",
      "Epoch 22, CIFAR-10 Batch 4:  Cost: 0.000624404929112643   Accuracy: 0.7155998945236206\n",
      "Epoch 22, CIFAR-10 Batch 5:  Cost: 0.0013601458631455898   Accuracy: 0.7113998532295227\n",
      "Epoch 23, CIFAR-10 Batch 1:  Cost: 0.0010543338721618056   Accuracy: 0.7205998301506042\n",
      "Epoch 23, CIFAR-10 Batch 2:  Cost: 0.0007016768795438111   Accuracy: 0.7193998098373413\n",
      "Epoch 23, CIFAR-10 Batch 3:  Cost: 0.0015196508029475808   Accuracy: 0.7099998593330383\n",
      "Epoch 23, CIFAR-10 Batch 4:  Cost: 0.000680931203532964   Accuracy: 0.7057998180389404\n",
      "Epoch 23, CIFAR-10 Batch 5:  Cost: 0.000452599284471944   Accuracy: 0.7069997787475586\n",
      "Epoch 24, CIFAR-10 Batch 1:  Cost: 0.0014501460827887058   Accuracy: 0.7231998443603516\n",
      "Epoch 24, CIFAR-10 Batch 2:  Cost: 0.0010109954746440053   Accuracy: 0.7149999141693115\n",
      "Epoch 24, CIFAR-10 Batch 3:  Cost: 0.0002576475089881569   Accuracy: 0.7105997800827026\n",
      "Epoch 24, CIFAR-10 Batch 4:  Cost: 0.0001328177604591474   Accuracy: 0.7193998694419861\n",
      "Epoch 24, CIFAR-10 Batch 5:  Cost: 0.00025678740348666906   Accuracy: 0.7129998803138733\n",
      "Epoch 25, CIFAR-10 Batch 1:  Cost: 0.0007174197817221284   Accuracy: 0.7055999040603638\n",
      "Epoch 25, CIFAR-10 Batch 2:  Cost: 0.0008110328344628215   Accuracy: 0.7171998620033264\n",
      "Epoch 25, CIFAR-10 Batch 3:  Cost: 0.0003734603524208069   Accuracy: 0.7131998538970947\n",
      "Epoch 25, CIFAR-10 Batch 4:  Cost: 0.0033463635481894016   Accuracy: 0.7077998518943787\n",
      "Epoch 25, CIFAR-10 Batch 5:  Cost: 0.0002050857583526522   Accuracy: 0.7145998477935791\n",
      "Epoch 26, CIFAR-10 Batch 1:  Cost: 0.0008752575377002358   Accuracy: 0.7213997840881348\n",
      "Epoch 26, CIFAR-10 Batch 2:  Cost: 0.0004321392916608602   Accuracy: 0.7187998294830322\n",
      "Epoch 26, CIFAR-10 Batch 3:  Cost: 0.0001560761156724766   Accuracy: 0.7145999073982239\n",
      "Epoch 26, CIFAR-10 Batch 4:  Cost: 0.00017555637168698013   Accuracy: 0.7015998959541321\n",
      "Epoch 26, CIFAR-10 Batch 5:  Cost: 0.0005434632766991854   Accuracy: 0.7069998383522034\n",
      "Epoch 27, CIFAR-10 Batch 1:  Cost: 0.00028977470356039703   Accuracy: 0.7125998735427856\n",
      "Epoch 27, CIFAR-10 Batch 2:  Cost: 0.00013644242426380515   Accuracy: 0.7137998342514038\n",
      "Epoch 27, CIFAR-10 Batch 3:  Cost: 0.0025453632697463036   Accuracy: 0.7077999114990234\n",
      "Epoch 27, CIFAR-10 Batch 4:  Cost: 0.0011585825122892857   Accuracy: 0.7061998844146729\n",
      "Epoch 27, CIFAR-10 Batch 5:  Cost: 0.0012678718194365501   Accuracy: 0.7013998627662659\n",
      "Epoch 28, CIFAR-10 Batch 1:  Cost: 0.00023939118545968086   Accuracy: 0.7123998403549194\n",
      "Epoch 28, CIFAR-10 Batch 2:  Cost: 0.00030748045537620783   Accuracy: 0.7119998931884766\n",
      "Epoch 28, CIFAR-10 Batch 3:  Cost: 0.00043440394802019   Accuracy: 0.7125998735427856\n",
      "Epoch 28, CIFAR-10 Batch 4:  Cost: 0.00016519481141585857   Accuracy: 0.7199997901916504\n",
      "Epoch 28, CIFAR-10 Batch 5:  Cost: 9.406251047039405e-05   Accuracy: 0.7183998227119446\n",
      "Epoch 29, CIFAR-10 Batch 1:  Cost: 0.0012387552997097373   Accuracy: 0.7197998762130737\n",
      "Epoch 29, CIFAR-10 Batch 2:  Cost: 0.0008114411612041295   Accuracy: 0.7187998294830322\n",
      "Epoch 29, CIFAR-10 Batch 3:  Cost: 0.006480005569756031   Accuracy: 0.7123998403549194\n",
      "Epoch 29, CIFAR-10 Batch 4:  Cost: 0.0007370826788246632   Accuracy: 0.7121998071670532\n",
      "Epoch 29, CIFAR-10 Batch 5:  Cost: 0.0011630068765953183   Accuracy: 0.7267998456954956\n",
      "Epoch 30, CIFAR-10 Batch 1:  Cost: 0.001539389370009303   Accuracy: 0.719799816608429\n",
      "Epoch 30, CIFAR-10 Batch 2:  Cost: 0.00040983560029417276   Accuracy: 0.7197998762130737\n",
      "Epoch 30, CIFAR-10 Batch 3:  Cost: 4.851092671742663e-05   Accuracy: 0.7257998585700989\n",
      "Epoch 30, CIFAR-10 Batch 4:  Cost: 9.854052041191608e-05   Accuracy: 0.7235998511314392\n",
      "Epoch 30, CIFAR-10 Batch 5:  Cost: 0.00012493111717049032   Accuracy: 0.720599889755249\n",
      "Epoch 31, CIFAR-10 Batch 1:  Cost: 0.00021208942052908242   Accuracy: 0.7233998775482178\n",
      "Epoch 31, CIFAR-10 Batch 2:  Cost: 0.00034707874874584377   Accuracy: 0.7205997705459595\n",
      "Epoch 31, CIFAR-10 Batch 3:  Cost: 0.00026026839623227715   Accuracy: 0.7205999493598938\n",
      "Epoch 31, CIFAR-10 Batch 4:  Cost: 0.0008629712392576039   Accuracy: 0.7119998335838318\n",
      "Epoch 31, CIFAR-10 Batch 5:  Cost: 0.0003214818425476551   Accuracy: 0.7227998971939087\n",
      "Epoch 32, CIFAR-10 Batch 1:  Cost: 0.0019073227886110544   Accuracy: 0.7263997793197632\n",
      "Epoch 32, CIFAR-10 Batch 2:  Cost: 0.00010580635716905817   Accuracy: 0.7191998362541199\n",
      "Epoch 32, CIFAR-10 Batch 3:  Cost: 6.277130887610838e-05   Accuracy: 0.7165998220443726\n",
      "Epoch 32, CIFAR-10 Batch 4:  Cost: 0.001562826568260789   Accuracy: 0.7033998966217041\n",
      "Epoch 32, CIFAR-10 Batch 5:  Cost: 0.00020329431572463363   Accuracy: 0.7245998978614807\n",
      "Epoch 33, CIFAR-10 Batch 1:  Cost: 0.0004407936939969659   Accuracy: 0.7165998220443726\n",
      "Epoch 33, CIFAR-10 Batch 2:  Cost: 0.0005149327334947884   Accuracy: 0.7079999446868896\n",
      "Epoch 33, CIFAR-10 Batch 3:  Cost: 0.00100232835393399   Accuracy: 0.7191997766494751\n",
      "Epoch 33, CIFAR-10 Batch 4:  Cost: 0.00034858431899920106   Accuracy: 0.7119998335838318\n",
      "Epoch 33, CIFAR-10 Batch 5:  Cost: 0.0003382640134077519   Accuracy: 0.7147998809814453\n",
      "Epoch 34, CIFAR-10 Batch 1:  Cost: 0.0010628935415297747   Accuracy: 0.7147997617721558\n",
      "Epoch 34, CIFAR-10 Batch 2:  Cost: 0.0005196825950406492   Accuracy: 0.71399986743927\n",
      "Epoch 34, CIFAR-10 Batch 3:  Cost: 0.0002882725966628641   Accuracy: 0.723599910736084\n",
      "Epoch 34, CIFAR-10 Batch 4:  Cost: 0.00024237975594587624   Accuracy: 0.7167999148368835\n",
      "Epoch 34, CIFAR-10 Batch 5:  Cost: 0.00021157583978492767   Accuracy: 0.720599889755249\n",
      "Epoch 35, CIFAR-10 Batch 1:  Cost: 0.0005255169235169888   Accuracy: 0.7125998735427856\n",
      "Epoch 35, CIFAR-10 Batch 2:  Cost: 0.00046493945410475135   Accuracy: 0.7191998362541199\n",
      "Epoch 35, CIFAR-10 Batch 3:  Cost: 0.0005991712678223848   Accuracy: 0.7233998775482178\n",
      "Epoch 35, CIFAR-10 Batch 4:  Cost: 0.0007179464446380734   Accuracy: 0.7129998207092285\n",
      "Epoch 35, CIFAR-10 Batch 5:  Cost: 0.0007305360632017255   Accuracy: 0.7217998504638672\n",
      "Epoch 36, CIFAR-10 Batch 1:  Cost: 0.00015170854749158025   Accuracy: 0.7255997657775879\n",
      "Epoch 36, CIFAR-10 Batch 2:  Cost: 0.0004690131463576108   Accuracy: 0.7179998159408569\n",
      "Epoch 36, CIFAR-10 Batch 3:  Cost: 0.00030343892285600305   Accuracy: 0.7215998768806458\n",
      "Epoch 36, CIFAR-10 Batch 4:  Cost: 0.0004071984440088272   Accuracy: 0.7161998748779297\n",
      "Epoch 36, CIFAR-10 Batch 5:  Cost: 0.00014385937538463622   Accuracy: 0.7147998213768005\n",
      "Epoch 37, CIFAR-10 Batch 1:  Cost: 0.0007444334914907813   Accuracy: 0.7203998565673828\n",
      "Epoch 37, CIFAR-10 Batch 2:  Cost: 0.00014299411850515753   Accuracy: 0.7147998809814453\n",
      "Epoch 37, CIFAR-10 Batch 3:  Cost: 0.00017504030256532133   Accuracy: 0.7205998301506042\n",
      "Epoch 37, CIFAR-10 Batch 4:  Cost: 0.00040862662717700005   Accuracy: 0.7099998593330383\n",
      "Epoch 37, CIFAR-10 Batch 5:  Cost: 0.00018798797100316733   Accuracy: 0.7079998254776001\n",
      "Epoch 38, CIFAR-10 Batch 1:  Cost: 0.0007773498655296862   Accuracy: 0.7253998517990112\n",
      "Epoch 38, CIFAR-10 Batch 2:  Cost: 0.00014287239173427224   Accuracy: 0.7267998456954956\n",
      "Epoch 38, CIFAR-10 Batch 3:  Cost: 0.00031819293508306146   Accuracy: 0.7145998477935791\n",
      "Epoch 38, CIFAR-10 Batch 4:  Cost: 0.00029673762037418783   Accuracy: 0.7117998600006104\n",
      "Epoch 38, CIFAR-10 Batch 5:  Cost: 0.0001081527370843105   Accuracy: 0.7165998816490173\n",
      "Epoch 39, CIFAR-10 Batch 1:  Cost: 0.00038928008871152997   Accuracy: 0.7261998653411865\n",
      "Epoch 39, CIFAR-10 Batch 2:  Cost: 8.781386713963002e-05   Accuracy: 0.7323998212814331\n",
      "Epoch 39, CIFAR-10 Batch 3:  Cost: 0.0007082756492309272   Accuracy: 0.7217998504638672\n",
      "Epoch 39, CIFAR-10 Batch 4:  Cost: 0.000359036261215806   Accuracy: 0.7201998233795166\n",
      "Epoch 39, CIFAR-10 Batch 5:  Cost: 0.00035315737477503717   Accuracy: 0.7235998511314392\n",
      "Epoch 40, CIFAR-10 Batch 1:  Cost: 0.0010118960635736585   Accuracy: 0.7243998050689697\n",
      "Epoch 40, CIFAR-10 Batch 2:  Cost: 0.0009146706433966756   Accuracy: 0.7227998375892639\n",
      "Epoch 40, CIFAR-10 Batch 3:  Cost: 0.00013748512719757855   Accuracy: 0.7313998341560364\n",
      "Epoch 40, CIFAR-10 Batch 4:  Cost: 0.001359576708637178   Accuracy: 0.7133998870849609\n",
      "Epoch 40, CIFAR-10 Batch 5:  Cost: 6.367603782564402e-05   Accuracy: 0.7289998531341553\n",
      "Epoch 41, CIFAR-10 Batch 1:  Cost: 0.00029128434835001826   Accuracy: 0.7197998762130737\n",
      "Epoch 41, CIFAR-10 Batch 2:  Cost: 0.0005468979943543673   Accuracy: 0.7167999148368835\n",
      "Epoch 41, CIFAR-10 Batch 3:  Cost: 0.00012705146218650043   Accuracy: 0.7233998775482178\n",
      "Epoch 41, CIFAR-10 Batch 4:  Cost: 0.0001861376513261348   Accuracy: 0.71319979429245\n",
      "Epoch 41, CIFAR-10 Batch 5:  Cost: 0.01511278934776783   Accuracy: 0.7215999364852905\n",
      "Epoch 42, CIFAR-10 Batch 1:  Cost: 0.0003223343810532242   Accuracy: 0.7147998809814453\n",
      "Epoch 42, CIFAR-10 Batch 2:  Cost: 0.00015779428940732032   Accuracy: 0.7179998755455017\n",
      "Epoch 42, CIFAR-10 Batch 3:  Cost: 8.114187949104235e-05   Accuracy: 0.7291998863220215\n",
      "Epoch 42, CIFAR-10 Batch 4:  Cost: 0.0001352681138087064   Accuracy: 0.7237998843193054\n",
      "Epoch 42, CIFAR-10 Batch 5:  Cost: 3.0287190384115092e-05   Accuracy: 0.731799840927124\n",
      "Epoch 43, CIFAR-10 Batch 1:  Cost: 0.0001704813475953415   Accuracy: 0.732999861240387\n",
      "Epoch 43, CIFAR-10 Batch 2:  Cost: 0.00017517898231744766   Accuracy: 0.7199999094009399\n",
      "Epoch 43, CIFAR-10 Batch 3:  Cost: 2.6655703550204635e-05   Accuracy: 0.7221997976303101\n",
      "Epoch 43, CIFAR-10 Batch 4:  Cost: 2.7195539587410167e-05   Accuracy: 0.7165998816490173\n",
      "Epoch 43, CIFAR-10 Batch 5:  Cost: 6.821753777330741e-05   Accuracy: 0.7235998511314392\n",
      "Epoch 44, CIFAR-10 Batch 1:  Cost: 0.0003317658556625247   Accuracy: 0.7285998463630676\n",
      "Epoch 44, CIFAR-10 Batch 2:  Cost: 0.001108048832975328   Accuracy: 0.7275997996330261\n",
      "Epoch 44, CIFAR-10 Batch 3:  Cost: 6.333497003652155e-05   Accuracy: 0.7185998558998108\n",
      "Epoch 44, CIFAR-10 Batch 4:  Cost: 0.00010716242832131684   Accuracy: 0.721599817276001\n",
      "Epoch 44, CIFAR-10 Batch 5:  Cost: 6.078172737034038e-05   Accuracy: 0.726399838924408\n",
      "Epoch 45, CIFAR-10 Batch 1:  Cost: 0.00036147853825241327   Accuracy: 0.7191998958587646\n",
      "Epoch 45, CIFAR-10 Batch 2:  Cost: 0.0012717170175164938   Accuracy: 0.7163997888565063\n",
      "Epoch 45, CIFAR-10 Batch 3:  Cost: 7.026575622148812e-05   Accuracy: 0.720599889755249\n",
      "Epoch 45, CIFAR-10 Batch 4:  Cost: 0.0010715550743043423   Accuracy: 0.7063998579978943\n",
      "Epoch 45, CIFAR-10 Batch 5:  Cost: 0.000270753022050485   Accuracy: 0.7175998687744141\n",
      "Epoch 46, CIFAR-10 Batch 1:  Cost: 0.00027617611340247095   Accuracy: 0.7247998714447021\n",
      "Epoch 46, CIFAR-10 Batch 2:  Cost: 3.325300713186152e-05   Accuracy: 0.7289998531341553\n",
      "Epoch 46, CIFAR-10 Batch 3:  Cost: 0.00027728514396585524   Accuracy: 0.7227998971939087\n",
      "Epoch 46, CIFAR-10 Batch 4:  Cost: 0.0016766928602010012   Accuracy: 0.7125998735427856\n",
      "Epoch 46, CIFAR-10 Batch 5:  Cost: 0.00024974936968646944   Accuracy: 0.7187998294830322\n",
      "Epoch 47, CIFAR-10 Batch 1:  Cost: 3.689949880936183e-05   Accuracy: 0.7211998105049133\n",
      "Epoch 47, CIFAR-10 Batch 2:  Cost: 0.00030927039915695786   Accuracy: 0.7301998138427734\n",
      "Epoch 47, CIFAR-10 Batch 3:  Cost: 7.304242899408564e-05   Accuracy: 0.7247998714447021\n",
      "Epoch 47, CIFAR-10 Batch 4:  Cost: 0.0008929421892389655   Accuracy: 0.7127999067306519\n",
      "Epoch 47, CIFAR-10 Batch 5:  Cost: 0.0002075439551845193   Accuracy: 0.7181998491287231\n",
      "Epoch 48, CIFAR-10 Batch 1:  Cost: 0.002583511173725128   Accuracy: 0.7255998253822327\n",
      "Epoch 48, CIFAR-10 Batch 2:  Cost: 0.00044093086034990847   Accuracy: 0.7141998410224915\n",
      "Epoch 48, CIFAR-10 Batch 3:  Cost: 6.165904778754339e-05   Accuracy: 0.7175998687744141\n",
      "Epoch 48, CIFAR-10 Batch 4:  Cost: 4.105936022824608e-05   Accuracy: 0.71399986743927\n",
      "Epoch 48, CIFAR-10 Batch 5:  Cost: 0.00010428213136037812   Accuracy: 0.7211998105049133\n",
      "Epoch 49, CIFAR-10 Batch 1:  Cost: 4.473490116652101e-05   Accuracy: 0.7277998328208923\n",
      "Epoch 49, CIFAR-10 Batch 2:  Cost: 7.672914944123477e-05   Accuracy: 0.7173998355865479\n",
      "Epoch 49, CIFAR-10 Batch 3:  Cost: 7.768969953758642e-05   Accuracy: 0.7345998287200928\n",
      "Epoch 49, CIFAR-10 Batch 4:  Cost: 0.00024585716892033815   Accuracy: 0.7141999006271362\n",
      "Epoch 49, CIFAR-10 Batch 5:  Cost: 0.0007073573651723564   Accuracy: 0.7193998098373413\n",
      "Epoch 50, CIFAR-10 Batch 1:  Cost: 7.136027852538973e-05   Accuracy: 0.721599817276001\n",
      "Epoch 50, CIFAR-10 Batch 2:  Cost: 0.0001142418768722564   Accuracy: 0.7165998816490173\n",
      "Epoch 50, CIFAR-10 Batch 3:  Cost: 8.969713235273957e-05   Accuracy: 0.7215998768806458\n",
      "Epoch 50, CIFAR-10 Batch 4:  Cost: 4.93807892780751e-05   Accuracy: 0.7181999087333679\n",
      "Epoch 50, CIFAR-10 Batch 5:  Cost: 3.084295894950628e-05   Accuracy: 0.7207998037338257\n"
     ]
    }
   ],
   "source": [
    "save_model_path = './image_classification'\n",
    "\n",
    "print('Training...')\n",
    "with tf.Session() as sess:\n",
    "    # Initializing the variables\n",
    "    sess.run(tf.global_variables_initializer())\n",
    "    \n",
    "    # Training cycle\n",
    "    for epoch in range(epochs):\n",
    "        # Loop over all batches\n",
    "        n_batches = 5\n",
    "        for batch_i in range(1, n_batches + 1):\n",
    "            for batch_features, batch_labels in helper.load_preprocess_training_batch(batch_i, batch_size):\n",
    "                train_neural_network(sess, optimizer, keep_probability, batch_features, batch_labels)\n",
    "            print('Epoch {:>2}, CIFAR-10 Batch {}:  '.format(epoch + 1, batch_i), end='')\n",
    "            print_stats(sess, batch_features, batch_labels, cost, accuracy)\n",
    "            \n",
    "    # Save Model\n",
    "    saver = tf.train.Saver()\n",
    "    save_path = saver.save(sess, save_model_path)"
   ]
  },
  {
   "cell_type": "markdown",
   "metadata": {},
   "source": [
    "# Checkpoint\n",
    "The model has been saved to disk.\n",
    "## Test Model\n",
    "Test your model against the test dataset.  This will be your final accuracy. You should have an accuracy greater than 50%. If you don't, keep tweaking the model architecture and parameters."
   ]
  },
  {
   "cell_type": "code",
   "execution_count": 19,
   "metadata": {
    "collapsed": false
   },
   "outputs": [
    {
     "name": "stdout",
     "output_type": "stream",
     "text": [
      "Testing Accuracy: 0.72158203125\n",
      "\n"
     ]
    },
    {
     "data": {
      "image/png": "[encoded data removed]",
      "text/plain": [
       "<matplotlib.figure.Figure at 0x7fd14032ae48>"
      ]
     },
     "metadata": {
      "image/png": {
       "height": 319,
       "width": 355
      }
     },
     "output_type": "display_data"
    }
   ],
   "source": [
    "%matplotlib inline\n",
    "%config InlineBackend.figure_format = 'retina'\n",
    "\n",
    "import tensorflow as tf\n",
    "import pickle\n",
    "import helper\n",
    "import random\n",
    "\n",
    "# Set batch size if not already set\n",
    "try:\n",
    "    if batch_size:\n",
    "        pass\n",
    "except NameError:\n",
    "    batch_size = 64\n",
    "\n",
    "save_model_path = './image_classification'\n",
    "n_samples = 4\n",
    "top_n_predictions = 3\n",
    "\n",
    "def test_model():\n",
    "    \"\"\"\n",
    "    Test the saved model against the test dataset\n",
    "    \"\"\"\n",
    "\n",
    "    test_features, test_labels = pickle.load(open('preprocess_test.p', mode='rb'))\n",
    "    loaded_graph = tf.Graph()\n",
    "\n",
    "    with tf.Session(graph=loaded_graph) as sess:\n",
    "        # Load model\n",
    "        loader = tf.train.import_meta_graph(save_model_path + '.meta')\n",
    "        loader.restore(sess, save_model_path)\n",
    "\n",
    "        # Get Tensors from loaded model\n",
    "        loaded_x = loaded_graph.get_tensor_by_name('x:0')\n",
    "        loaded_y = loaded_graph.get_tensor_by_name('y:0')\n",
    "        loaded_keep_prob = loaded_graph.get_tensor_by_name('keep_prob:0')\n",
    "        loaded_logits = loaded_graph.get_tensor_by_name('logits:0')\n",
    "        loaded_acc = loaded_graph.get_tensor_by_name('accuracy:0')\n",
    "        \n",
    "        # Get accuracy in batches for memory limitations\n",
    "        test_batch_acc_total = 0\n",
    "        test_batch_count = 0\n",
    "        \n",
    "        for test_feature_batch, test_label_batch in helper.batch_features_labels(test_features, test_labels, batch_size):\n",
    "            test_batch_acc_total += sess.run(\n",
    "                loaded_acc,\n",
    "                feed_dict={loaded_x: test_feature_batch, loaded_y: test_label_batch, loaded_keep_prob: 1.0})\n",
    "            test_batch_count += 1\n",
    "\n",
    "        print('Testing Accuracy: {}\\n'.format(test_batch_acc_total/test_batch_count))\n",
    "\n",
    "        # Print Random Samples\n",
    "        random_test_features, random_test_labels = tuple(zip(*random.sample(list(zip(test_features, test_labels)), n_samples)))\n",
    "        random_test_predictions = sess.run(\n",
    "            tf.nn.top_k(tf.nn.softmax(loaded_logits), top_n_predictions),\n",
    "            feed_dict={loaded_x: random_test_features, loaded_y: random_test_labels, loaded_keep_prob: 1.0})\n",
    "        helper.display_image_predictions(random_test_features, random_test_labels, random_test_predictions)\n",
    "\n",
    "\n",
    "test_model()"
   ]
  },
  {
   "cell_type": "markdown",
   "metadata": {},
   "source": [
    "## Why 50-80% Accuracy?\n",
    "You might be wondering why you can't get an accuracy any higher. First things first, 50% isn't bad for a simple CNN.  Pure guessing would get you 10% accuracy. However, you might notice people are getting scores [well above 80%](http://rodrigob.github.io/are_we_there_yet/build/classification_datasets_results.html#43494641522d3130).  That's because we haven't taught you all there is to know about neural networks. We still need to cover a few more techniques.\n",
    "## Submitting This Project\n",
    "When submitting this project, make sure to run all the cells before saving the notebook.  Save the notebook file as \"dlnd_image_classification.ipynb\" and save it as a HTML file under \"File\" -> \"Download as\".  Include the \"helper.py\" and \"problem_unittests.py\" files in your submission."
   ]
  },
  {
   "cell_type": "code",
   "execution_count": null,
   "metadata": {
    "collapsed": true
   },
   "outputs": [],
   "source": []
  }
 ],
 "metadata": {
  "anaconda-cloud": {},
  "kernelspec": {
   "display_name": "Python [conda env:dl]",
   "language": "python",
   "name": "conda-env-dl-py"
  },
  "language_info": {
   "codemirror_mode": {
    "name": "ipython",
    "version": 3
   },
   "file_extension": ".py",
   "mimetype": "text/x-python",
   "name": "python",
   "nbconvert_exporter": "python",
   "pygments_lexer": "ipython3",
   "version": "3.5.2"
  }
 },
 "nbformat": 4,
 "nbformat_minor": 1
}
